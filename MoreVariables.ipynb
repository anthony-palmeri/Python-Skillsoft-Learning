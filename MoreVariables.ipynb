{
 "cells": [
  {
   "cell_type": "code",
   "execution_count": 6,
   "id": "5f02fa7a",
   "metadata": {},
   "outputs": [],
   "source": [
    "n1 = 34\n",
    "\n",
    "n2 = 34.5\n",
    "\n",
    "n3 = 100"
   ]
  },
  {
   "cell_type": "code",
   "execution_count": 7,
   "id": "c022acc8",
   "metadata": {},
   "outputs": [],
   "source": [
    "s1 = 'Hello'\n",
    "\n",
    "s2 = 'World'"
   ]
  },
  {
   "cell_type": "code",
   "execution_count": 8,
   "id": "4851c7b6",
   "metadata": {},
   "outputs": [
    {
     "data": {
      "text/plain": [
       "168.5"
      ]
     },
     "execution_count": 8,
     "metadata": {},
     "output_type": "execute_result"
    }
   ],
   "source": [
    "total_n = n1 + n2 + n3\n",
    "total_n"
   ]
  },
  {
   "cell_type": "code",
   "execution_count": 9,
   "id": "fbe486c8",
   "metadata": {},
   "outputs": [
    {
     "data": {
      "text/plain": [
       "35"
      ]
     },
     "execution_count": 9,
     "metadata": {},
     "output_type": "execute_result"
    }
   ],
   "source": [
    "n1 = n1 + 1\n",
    "\n",
    "n1"
   ]
  },
  {
   "cell_type": "code",
   "execution_count": 10,
   "id": "d399f84b",
   "metadata": {},
   "outputs": [
    {
     "data": {
      "text/plain": [
       "44.5"
      ]
     },
     "execution_count": 10,
     "metadata": {},
     "output_type": "execute_result"
    }
   ],
   "source": [
    "n2 = n2 + 10\n",
    "\n",
    "n2"
   ]
  },
  {
   "cell_type": "code",
   "execution_count": 12,
   "id": "c72d5853",
   "metadata": {},
   "outputs": [
    {
     "data": {
      "text/plain": [
       "50"
      ]
     },
     "execution_count": 12,
     "metadata": {},
     "output_type": "execute_result"
    }
   ],
   "source": [
    "n3 = n3 - 50\n",
    "\n",
    "n3"
   ]
  },
  {
   "cell_type": "code",
   "execution_count": 13,
   "id": "fa3d109a",
   "metadata": {},
   "outputs": [
    {
     "data": {
      "text/plain": [
       "2500"
      ]
     },
     "execution_count": 13,
     "metadata": {},
     "output_type": "execute_result"
    }
   ],
   "source": [
    "n3 = n3 * 50\n",
    "\n",
    "n3"
   ]
  },
  {
   "cell_type": "code",
   "execution_count": 14,
   "id": "cdf8a7ec",
   "metadata": {},
   "outputs": [
    {
     "data": {
      "text/plain": [
       "50.0"
      ]
     },
     "execution_count": 14,
     "metadata": {},
     "output_type": "execute_result"
    }
   ],
   "source": [
    "n3 = n3 / 50\n",
    "\n",
    "n3"
   ]
  },
  {
   "cell_type": "code",
   "execution_count": 15,
   "id": "312f0922",
   "metadata": {},
   "outputs": [
    {
     "data": {
      "text/plain": [
       "71"
      ]
     },
     "execution_count": 15,
     "metadata": {},
     "output_type": "execute_result"
    }
   ],
   "source": [
    "n1 += n1 + 1\n",
    "\n",
    "# the righthand side is evaluated first\n",
    "\n",
    "n1"
   ]
  },
  {
   "cell_type": "code",
   "execution_count": 16,
   "id": "a4b88f9a",
   "metadata": {},
   "outputs": [
    {
     "data": {
      "text/plain": [
       "54.5"
      ]
     },
     "execution_count": 16,
     "metadata": {},
     "output_type": "execute_result"
    }
   ],
   "source": [
    "n2 += 10\n",
    "\n",
    "n2"
   ]
  },
  {
   "cell_type": "code",
   "execution_count": 17,
   "id": "d9e7319f",
   "metadata": {},
   "outputs": [
    {
     "data": {
      "text/plain": [
       "2500.0"
      ]
     },
     "execution_count": 17,
     "metadata": {},
     "output_type": "execute_result"
    }
   ],
   "source": [
    "n3 *= 50\n",
    "\n",
    "n3"
   ]
  },
  {
   "cell_type": "code",
   "execution_count": 18,
   "id": "ffa3e273",
   "metadata": {},
   "outputs": [
    {
     "data": {
      "text/plain": [
       "50.0"
      ]
     },
     "execution_count": 18,
     "metadata": {},
     "output_type": "execute_result"
    }
   ],
   "source": [
    "n3 /= 50\n",
    "\n",
    "n3"
   ]
  },
  {
   "cell_type": "code",
   "execution_count": 19,
   "id": "2d924898",
   "metadata": {},
   "outputs": [
    {
     "data": {
      "text/plain": [
       "'HelloWorld'"
      ]
     },
     "execution_count": 19,
     "metadata": {},
     "output_type": "execute_result"
    }
   ],
   "source": [
    "concat_string = s1 + s2\n",
    "\n",
    "concat_string"
   ]
  },
  {
   "cell_type": "code",
   "execution_count": 20,
   "id": "55f086cd",
   "metadata": {},
   "outputs": [
    {
     "data": {
      "text/plain": [
       "'HelloYoohoo'"
      ]
     },
     "execution_count": 20,
     "metadata": {},
     "output_type": "execute_result"
    }
   ],
   "source": [
    "s1 = s1 + 'Yoohoo'\n",
    "\n",
    "s1"
   ]
  },
  {
   "cell_type": "code",
   "execution_count": 21,
   "id": "02de82ae",
   "metadata": {},
   "outputs": [
    {
     "data": {
      "text/plain": [
       "'WorldYippee'"
      ]
     },
     "execution_count": 21,
     "metadata": {},
     "output_type": "execute_result"
    }
   ],
   "source": [
    "s2 = s2 + 'Yippee'\n",
    "\n",
    "s2"
   ]
  },
  {
   "cell_type": "code",
   "execution_count": 22,
   "id": "0aab5f71",
   "metadata": {},
   "outputs": [
    {
     "data": {
      "text/plain": [
       "'HelloYoohoo'"
      ]
     },
     "execution_count": 22,
     "metadata": {},
     "output_type": "execute_result"
    }
   ],
   "source": [
    "new_s1 = s1\n",
    "\n",
    "new_s1"
   ]
  },
  {
   "cell_type": "code",
   "execution_count": 23,
   "id": "30182df5",
   "metadata": {},
   "outputs": [
    {
     "data": {
      "text/plain": [
       "'Some other value'"
      ]
     },
     "execution_count": 23,
     "metadata": {},
     "output_type": "execute_result"
    }
   ],
   "source": [
    "s1 = 'Some other value'\n",
    "\n",
    "s1"
   ]
  },
  {
   "cell_type": "code",
   "execution_count": 24,
   "id": "3fdb21cf",
   "metadata": {},
   "outputs": [
    {
     "data": {
      "text/plain": [
       "'HelloYoohoo'"
      ]
     },
     "execution_count": 24,
     "metadata": {},
     "output_type": "execute_result"
    }
   ],
   "source": [
    "new_s1"
   ]
  },
  {
   "cell_type": "code",
   "execution_count": 25,
   "id": "dc62b673",
   "metadata": {},
   "outputs": [
    {
     "data": {
      "text/plain": [
       "50.0"
      ]
     },
     "execution_count": 25,
     "metadata": {},
     "output_type": "execute_result"
    }
   ],
   "source": [
    "some_n = n3\n",
    "\n",
    "some_n"
   ]
  },
  {
   "cell_type": "code",
   "execution_count": 27,
   "id": "f918011e",
   "metadata": {},
   "outputs": [
    {
     "data": {
      "text/plain": [
       "50000000.0"
      ]
     },
     "execution_count": 27,
     "metadata": {},
     "output_type": "execute_result"
    }
   ],
   "source": [
    "n3 *= 1000\n",
    "\n",
    "n3"
   ]
  },
  {
   "cell_type": "code",
   "execution_count": 28,
   "id": "d9483bed",
   "metadata": {},
   "outputs": [
    {
     "data": {
      "text/plain": [
       "50.0"
      ]
     },
     "execution_count": 28,
     "metadata": {},
     "output_type": "execute_result"
    }
   ],
   "source": [
    "some_n"
   ]
  },
  {
   "cell_type": "code",
   "execution_count": null,
   "id": "c4a13aea",
   "metadata": {},
   "outputs": [],
   "source": []
  },
  {
   "cell_type": "code",
   "execution_count": null,
   "id": "e6c3b2a8",
   "metadata": {},
   "outputs": [],
   "source": []
  },
  {
   "cell_type": "code",
   "execution_count": null,
   "id": "1e87c772",
   "metadata": {},
   "outputs": [],
   "source": []
  },
  {
   "cell_type": "code",
   "execution_count": null,
   "id": "ebc7ce2c",
   "metadata": {},
   "outputs": [],
   "source": []
  },
  {
   "cell_type": "code",
   "execution_count": null,
   "id": "9e7a00ba",
   "metadata": {},
   "outputs": [],
   "source": []
  },
  {
   "cell_type": "code",
   "execution_count": null,
   "id": "c35189fa",
   "metadata": {},
   "outputs": [],
   "source": []
  },
  {
   "cell_type": "code",
   "execution_count": null,
   "id": "2aa13442",
   "metadata": {},
   "outputs": [],
   "source": []
  },
  {
   "cell_type": "code",
   "execution_count": null,
   "id": "8676e481",
   "metadata": {},
   "outputs": [],
   "source": []
  },
  {
   "cell_type": "code",
   "execution_count": null,
   "id": "b1be4637",
   "metadata": {},
   "outputs": [],
   "source": []
  },
  {
   "cell_type": "code",
   "execution_count": null,
   "id": "107bfac2",
   "metadata": {},
   "outputs": [],
   "source": []
  }
 ],
 "metadata": {
  "kernelspec": {
   "display_name": "Python 3 (ipykernel)",
   "language": "python",
   "name": "python3"
  },
  "language_info": {
   "codemirror_mode": {
    "name": "ipython",
    "version": 3
   },
   "file_extension": ".py",
   "mimetype": "text/x-python",
   "name": "python",
   "nbconvert_exporter": "python",
   "pygments_lexer": "ipython3",
   "version": "3.9.7"
  }
 },
 "nbformat": 4,
 "nbformat_minor": 5
}
