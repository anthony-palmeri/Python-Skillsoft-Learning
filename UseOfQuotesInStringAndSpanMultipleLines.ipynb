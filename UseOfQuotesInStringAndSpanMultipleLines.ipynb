{
 "cells": [
  {
   "cell_type": "code",
   "execution_count": 1,
   "id": "2dd90249",
   "metadata": {},
   "outputs": [
    {
     "name": "stdout",
     "output_type": "stream",
     "text": [
      "I am a single quoted string\n"
     ]
    }
   ],
   "source": [
    "print('I am a single quoted string')"
   ]
  },
  {
   "cell_type": "code",
   "execution_count": 2,
   "id": "5f64e1b7",
   "metadata": {},
   "outputs": [
    {
     "name": "stdout",
     "output_type": "stream",
     "text": [
      "I am a double quoted string\n"
     ]
    }
   ],
   "source": [
    "print(\"I am a double quoted string\")"
   ]
  },
  {
   "cell_type": "code",
   "execution_count": 3,
   "id": "0f05e566",
   "metadata": {},
   "outputs": [
    {
     "name": "stdout",
     "output_type": "stream",
     "text": [
      "python is awesome\n"
     ]
    }
   ],
   "source": [
    "print(\"python \" + 'is ' + \"\"\"awesome\"\"\")"
   ]
  },
  {
   "cell_type": "code",
   "execution_count": 4,
   "id": "80fa4409",
   "metadata": {},
   "outputs": [
    {
     "name": "stdout",
     "output_type": "stream",
     "text": [
      "python python python \n"
     ]
    }
   ],
   "source": [
    "print('python ' * 3)"
   ]
  },
  {
   "cell_type": "code",
   "execution_count": 5,
   "id": "d2fdabbd",
   "metadata": {},
   "outputs": [
    {
     "ename": "NameError",
     "evalue": "name 'python' is not defined",
     "output_type": "error",
     "traceback": [
      "\u001b[0;31m---------------------------------------------------------------------------\u001b[0m",
      "\u001b[0;31mNameError\u001b[0m                                 Traceback (most recent call last)",
      "\u001b[0;32m/var/folders/cz/qz298kv17mzdw13_wf6rgpgr0000gn/T/ipykernel_20475/638328725.py\u001b[0m in \u001b[0;36m<module>\u001b[0;34m\u001b[0m\n\u001b[0;32m----> 1\u001b[0;31m \u001b[0mpython\u001b[0m\u001b[0;34m(\u001b[0m\u001b[0;34m'python '\u001b[0m \u001b[0;34m-\u001b[0m \u001b[0;36m3\u001b[0m\u001b[0;34m)\u001b[0m\u001b[0;34m\u001b[0m\u001b[0;34m\u001b[0m\u001b[0m\n\u001b[0m",
      "\u001b[0;31mNameError\u001b[0m: name 'python' is not defined"
     ]
    }
   ],
   "source": [
    "python('python ' - 3)"
   ]
  },
  {
   "cell_type": "code",
   "execution_count": 7,
   "id": "3caa3cff",
   "metadata": {},
   "outputs": [
    {
     "name": "stdout",
     "output_type": "stream",
     "text": [
      "Salad\n",
      "You had Salad! That sounds delicious!\n"
     ]
    }
   ],
   "source": [
    "question = \"What did you have for lunch?\"\n",
    "answer = input()\n",
    "\n",
    "print(\"You had \" + answer + \"!\" + \" That sounds delicious!\")"
   ]
  },
  {
   "cell_type": "code",
   "execution_count": 8,
   "id": "aee9dfe8",
   "metadata": {},
   "outputs": [
    {
     "ename": "SyntaxError",
     "evalue": "invalid syntax (323132246.py, line 1)",
     "output_type": "error",
     "traceback": [
      "\u001b[0;36m  File \u001b[0;32m\"/var/folders/cz/qz298kv17mzdw13_wf6rgpgr0000gn/T/ipykernel_20475/323132246.py\"\u001b[0;36m, line \u001b[0;32m1\u001b[0m\n\u001b[0;31m    print('I'm learning python')\u001b[0m\n\u001b[0m             ^\u001b[0m\n\u001b[0;31mSyntaxError\u001b[0m\u001b[0;31m:\u001b[0m invalid syntax\n"
     ]
    }
   ],
   "source": [
    "# example why quote types matter\n",
    "\n",
    "print('I'm learning python')"
   ]
  },
  {
   "cell_type": "code",
   "execution_count": 9,
   "id": "0b5b4c8f",
   "metadata": {},
   "outputs": [
    {
     "name": "stdout",
     "output_type": "stream",
     "text": [
      "I'm learning python\n"
     ]
    }
   ],
   "source": [
    "print(\"I'm learning python\")"
   ]
  },
  {
   "cell_type": "code",
   "execution_count": 10,
   "id": "74b3c668",
   "metadata": {},
   "outputs": [
    {
     "name": "stdout",
     "output_type": "stream",
     "text": [
      "John said \"Hello there!\"\n"
     ]
    }
   ],
   "source": [
    "print('John said \"Hello there!\"')"
   ]
  },
  {
   "cell_type": "code",
   "execution_count": 11,
   "id": "27e48d3f",
   "metadata": {},
   "outputs": [
    {
     "name": "stdout",
     "output_type": "stream",
     "text": [
      "I'm learning python\n"
     ]
    }
   ],
   "source": [
    "print('I\\'m learning python')"
   ]
  },
  {
   "cell_type": "code",
   "execution_count": 12,
   "id": "285d59c1",
   "metadata": {},
   "outputs": [
    {
     "name": "stdout",
     "output_type": "stream",
     "text": [
      "John said \"Hello there!\"\n"
     ]
    }
   ],
   "source": [
    "print(\"John said \\\"Hello there!\\\"\")"
   ]
  },
  {
   "cell_type": "code",
   "execution_count": 13,
   "id": "4138d234",
   "metadata": {},
   "outputs": [
    {
     "name": "stdout",
     "output_type": "stream",
     "text": [
      "I'm learning \"python\"\n"
     ]
    }
   ],
   "source": [
    "print('I\\'m learning \"python\"')"
   ]
  },
  {
   "cell_type": "code",
   "execution_count": 14,
   "id": "3d93df9e",
   "metadata": {},
   "outputs": [
    {
     "name": "stdout",
     "output_type": "stream",
     "text": [
      "Hello John! \n",
      "How are you?\n"
     ]
    }
   ],
   "source": [
    "print(\"Hello John! \\nHow are you?\")"
   ]
  },
  {
   "cell_type": "code",
   "execution_count": 15,
   "id": "ed129a77",
   "metadata": {},
   "outputs": [
    {
     "name": "stdout",
     "output_type": "stream",
     "text": [
      "This is a very long line \n",
      "but we can have span \n",
      "multiple lines.\n"
     ]
    }
   ],
   "source": [
    "print(\"This is a very long line \\nbut we can have span \\nmultiple lines.\")"
   ]
  },
  {
   "cell_type": "code",
   "execution_count": 16,
   "id": "2612c016",
   "metadata": {},
   "outputs": [
    {
     "name": "stdout",
     "output_type": "stream",
     "text": [
      "I am a triple quoted string\n"
     ]
    }
   ],
   "source": [
    "print(\"\"\"I am a triple quoted string\"\"\")"
   ]
  },
  {
   "cell_type": "code",
   "execution_count": 17,
   "id": "864de041",
   "metadata": {},
   "outputs": [
    {
     "name": "stdout",
     "output_type": "stream",
     "text": [
      "This is a very long\n",
      "string in python\n"
     ]
    }
   ],
   "source": [
    "print('''This is a very long\n",
    "string in python''')\n",
    "\n",
    "# this is best practice for multiline outputs"
   ]
  },
  {
   "cell_type": "code",
   "execution_count": 18,
   "id": "7116d114",
   "metadata": {},
   "outputs": [
    {
     "name": "stdout",
     "output_type": "stream",
     "text": [
      "This is also a very long string\n",
      "but we can print it\n",
      "across multiple lines.\n"
     ]
    }
   ],
   "source": [
    "print(\"\"\"This is also a very long string\n",
    "but we can print it\n",
    "across multiple lines.\"\"\")"
   ]
  },
  {
   "cell_type": "code",
   "execution_count": 19,
   "id": "883df49d",
   "metadata": {},
   "outputs": [
    {
     "ename": "SyntaxError",
     "evalue": "EOL while scanning string literal (2943192940.py, line 1)",
     "output_type": "error",
     "traceback": [
      "\u001b[0;36m  File \u001b[0;32m\"/var/folders/cz/qz298kv17mzdw13_wf6rgpgr0000gn/T/ipykernel_20475/2943192940.py\"\u001b[0;36m, line \u001b[0;32m1\u001b[0m\n\u001b[0;31m    print(\"This is a very long string,\u001b[0m\n\u001b[0m                                      ^\u001b[0m\n\u001b[0;31mSyntaxError\u001b[0m\u001b[0;31m:\u001b[0m EOL while scanning string literal\n"
     ]
    }
   ],
   "source": [
    "print(\"This is a very long string,\n",
    "      in python\")"
   ]
  },
  {
   "cell_type": "code",
   "execution_count": 20,
   "id": "c11701fd",
   "metadata": {},
   "outputs": [
    {
     "name": "stdout",
     "output_type": "stream",
     "text": [
      "A dog barks!\n"
     ]
    }
   ],
   "source": [
    "my_var = 'barks'\n",
    "\n",
    "print('A dog ' + my_var + '!')"
   ]
  },
  {
   "cell_type": "code",
   "execution_count": 23,
   "id": "92976301",
   "metadata": {},
   "outputs": [
    {
     "name": "stdout",
     "output_type": "stream",
     "text": [
      "A dog barks!\n"
     ]
    }
   ],
   "source": [
    "print(f'A dog {my_var}!')"
   ]
  },
  {
   "cell_type": "code",
   "execution_count": 24,
   "id": "87e46066",
   "metadata": {},
   "outputs": [
    {
     "name": "stdout",
     "output_type": "stream",
     "text": [
      "A dog {my_var}!\n"
     ]
    }
   ],
   "source": [
    "print('A dog {my_var}!')"
   ]
  },
  {
   "cell_type": "code",
   "execution_count": 25,
   "id": "df61be5e",
   "metadata": {},
   "outputs": [
    {
     "name": "stdout",
     "output_type": "stream",
     "text": [
      "A dog barks!\n"
     ]
    }
   ],
   "source": [
    "print(f'''A dog {my_var}!''')"
   ]
  },
  {
   "cell_type": "code",
   "execution_count": 26,
   "id": "87f85649",
   "metadata": {},
   "outputs": [
    {
     "name": "stdout",
     "output_type": "stream",
     "text": [
      "A dog barks!\n"
     ]
    }
   ],
   "source": [
    "print('A dog {}!'.format(my_var))"
   ]
  },
  {
   "cell_type": "code",
   "execution_count": 28,
   "id": "48f25ee7",
   "metadata": {},
   "outputs": [
    {
     "name": "stdout",
     "output_type": "stream",
     "text": [
      "John asked \t'How are you?'\n"
     ]
    }
   ],
   "source": [
    "print(\"John asked \\t'How are you?'\")"
   ]
  },
  {
   "cell_type": "code",
   "execution_count": 29,
   "id": "40366d73",
   "metadata": {},
   "outputs": [
    {
     "name": "stdout",
     "output_type": "stream",
     "text": [
      "Hello \t World\n"
     ]
    }
   ],
   "source": [
    "print(\"Hello \\t World\")"
   ]
  },
  {
   "cell_type": "code",
   "execution_count": 30,
   "id": "0b181247",
   "metadata": {},
   "outputs": [
    {
     "name": "stdout",
     "output_type": "stream",
     "text": [
      "C:\\Users\\Q\n"
     ]
    }
   ],
   "source": [
    "print('C:\\\\Users\\\\Q')"
   ]
  },
  {
   "cell_type": "code",
   "execution_count": null,
   "id": "eec6d024",
   "metadata": {},
   "outputs": [],
   "source": []
  }
 ],
 "metadata": {
  "kernelspec": {
   "display_name": "Python 3 (ipykernel)",
   "language": "python",
   "name": "python3"
  },
  "language_info": {
   "codemirror_mode": {
    "name": "ipython",
    "version": 3
   },
   "file_extension": ".py",
   "mimetype": "text/x-python",
   "name": "python",
   "nbconvert_exporter": "python",
   "pygments_lexer": "ipython3",
   "version": "3.9.7"
  }
 },
 "nbformat": 4,
 "nbformat_minor": 5
}
